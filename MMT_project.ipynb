{
  "nbformat": 4,
  "nbformat_minor": 0,
  "metadata": {
    "colab": {
      "name": "MMT_project.ipynb",
      "provenance": [],
      "collapsed_sections": [],
      "toc_visible": true,
      "machine_shape": "hm"
    },
    "kernelspec": {
      "name": "python3",
      "display_name": "Python 3"
    }
  },
  "cells": [
    {
      "cell_type": "markdown",
      "metadata": {
        "id": "Fattyl2pOMcD",
        "colab_type": "text"
      },
      "source": [
        "## Mounting Google Drive"
      ]
    },
    {
      "cell_type": "code",
      "metadata": {
        "id": "6Fm81Hem8vnP",
        "colab_type": "code",
        "outputId": "7dcb0d4a-7248-4d06-ca87-45fcc8c36d6e",
        "colab": {
          "base_uri": "https://localhost:8080/",
          "height": 122
        }
      },
      "source": [
        "from google.colab import drive\n",
        "drive.mount('/content/gdrive')"
      ],
      "execution_count": 0,
      "outputs": [
        {
          "output_type": "stream",
          "text": [
            "Go to this URL in a browser: https://accounts.google.com/o/oauth2/auth?client_id=947318989803-6bn6qk8qdgf4n4g3pfee6491hc0brc4i.apps.googleusercontent.com&redirect_uri=urn%3aietf%3awg%3aoauth%3a2.0%3aoob&response_type=code&scope=email%20https%3a%2f%2fwww.googleapis.com%2fauth%2fdocs.test%20https%3a%2f%2fwww.googleapis.com%2fauth%2fdrive%20https%3a%2f%2fwww.googleapis.com%2fauth%2fdrive.photos.readonly%20https%3a%2f%2fwww.googleapis.com%2fauth%2fpeopleapi.readonly\n",
            "\n",
            "Enter your authorization code:\n",
            "··········\n",
            "Mounted at /content/gdrive\n"
          ],
          "name": "stdout"
        }
      ]
    },
    {
      "cell_type": "markdown",
      "metadata": {
        "id": "-JsJJhUIDxij",
        "colab_type": "text"
      },
      "source": [
        "# Importing Necessary Libraries"
      ]
    },
    {
      "cell_type": "code",
      "metadata": {
        "id": "HxvWZgLmN2ZR",
        "colab_type": "code",
        "colab": {}
      },
      "source": [
        "import numpy as np\n",
        "import pandas as pd\n",
        "from scipy.io import loadmat\n",
        "from os import listdir\n",
        "from os.path import isfile, join"
      ],
      "execution_count": 0,
      "outputs": []
    },
    {
      "cell_type": "markdown",
      "metadata": {
        "id": "L3jYjmqmOeBm",
        "colab_type": "text"
      },
      "source": [
        "# Preparing Data"
      ]
    },
    {
      "cell_type": "markdown",
      "metadata": {
        "id": "Oh4fxB8-Ohbd",
        "colab_type": "text"
      },
      "source": [
        "### Musical Aptitude Scores"
      ]
    },
    {
      "cell_type": "code",
      "metadata": {
        "id": "gH2GR4nyT6ZB",
        "colab_type": "code",
        "outputId": "5e43f4f0-4ce4-4c7f-e532-52700715a3ce",
        "colab": {
          "base_uri": "https://localhost:8080/",
          "height": 71
        }
      },
      "source": [
        "import pandas as pd\n",
        "xls = pd.ExcelFile('/content/gdrive/My Drive/fMRIdataset_demographics77.xlsx')\n",
        "df1 = pd.read_excel(xls, \"77\")\n",
        "df2 = pd.read_excel(xls, \"Seashore\")\n",
        "\n",
        "file_name = {}\n",
        "cnt = 0\n",
        "for i in df1['name.MAT']:\n",
        "  file_name[df1['#'][cnt]] = i\n",
        "  cnt += 1\n",
        "\n",
        "Dict = {}\n",
        "cnt = 0\n",
        "for i in df2['Unnamed: 0']:\n",
        "  try:\n",
        "    m = (df2['Unnamed: 1'][cnt] + df2['Unnamed: 2'][cnt])/2\n",
        "    Dict[file_name[i]] = [df2['Unnamed: 1'][cnt], df2['Unnamed: 2'][cnt], m]\n",
        "  except:\n",
        "    pass\n",
        "  cnt +=1\n",
        "print(Dict)\n",
        "print(len(Dict))"
      ],
      "execution_count": 0,
      "outputs": [
        {
          "output_type": "stream",
          "text": [
            "{'mus22_': [49, 45, 47.0], 'nonmus22_': [38, 0, 19.0], 'nonmus25_': [36, 46, 41.0], 'nonmus26_': [42, 37, 39.5], 'nonmus27_': [42, 45, 43.5], 'nonmus29_': [0, 0, 0.0], 'mus25_': [47, 47, 47.0], 'nonmus30_': [23, 23, 23.0], 'nonmus32_': [49, 44, 46.5], 'nonmus01_': [33, 41, 37.0], 'mus03_': [49, 47, 48.0], 'mus04_': [34, 39, 36.5], 'mus05_': [49, 47, 48.0], 'nonmus02_': [33, 43, 38.0], 'nonmus03_': [46, 47, 46.5], 'mus07_': [47, 48, 47.5], 'nonmus36_': [37, 41, 39.0], 'mus08_': [50, 46, 48.0], 'mus09_': [48, 41, 44.5], 'nonmus05_': [43, 45, 44.0], 'nonmus06_': [13, 0, 6.5], 'mus10_': [50, 48, 49.0], 'mus26_': [42, 46, 44.0], 'nonmus43_': [41, 41, 41.0], 'nonmus45_': [48, 46, 47.0], 'nonmus46_': [30, 42, 36.0], 'nonmus47_': [48, 40, 44.0], 'nonmus51_': [40, 44, 42.0], 'nonmus09_': [43, 40, 41.5], 'mus24_': [48, 46, 47.0], 'mus13_': [46, 40, 43.0], 'mus14_': [48, 45, 46.5], 'mus15_': [50, 43, 46.5], 'mus16_': [50, 41, 45.5], 'mus17_': [48, 39, 43.5], 'nonmus12_': [47, 43, 45.0], 'nonmus13_': [49, 45, 47.0], 'mus19_': [44, 46, 45.0]}\n",
            "38\n"
          ],
          "name": "stdout"
        }
      ]
    },
    {
      "cell_type": "markdown",
      "metadata": {
        "id": "dVef65QzOnuV",
        "colab_type": "text"
      },
      "source": [
        "### fMRI Data"
      ]
    },
    {
      "cell_type": "code",
      "metadata": {
        "id": "O9DsS0Wxc7xQ",
        "colab_type": "code",
        "outputId": "d17aade3-0a17-47ba-efab-5f18812243fa",
        "colab": {
          "base_uri": "https://localhost:8080/",
          "height": 68
        }
      },
      "source": [
        "MusDataDir = ('/content/gdrive/My Drive/Piazzolla/Mus/')\n",
        "subject_files_mus = [f for f in listdir(MusDataDir) if isfile(join(MusDataDir, f))]\n",
        "print('No. of Mus: ', len(subject_files_mus))\n",
        "\n",
        "NonMusDataDir = ('/content/gdrive/My Drive/Piazzolla/NonMus/')\n",
        "subject_files_nonmus = [f for f in listdir(NonMusDataDir) if isfile(join(NonMusDataDir, f))]\n",
        "print('No. of NonMus: ', len(subject_files_nonmus))\n",
        "\n",
        "print('Total no. of subjects: ', len(subject_files_mus) + len(subject_files_nonmus))"
      ],
      "execution_count": 0,
      "outputs": [
        {
          "output_type": "stream",
          "text": [
            "No. of Mus:  17\n",
            "No. of NonMus:  21\n",
            "Total no. of subjects:  38\n"
          ],
          "name": "stdout"
        }
      ]
    },
    {
      "cell_type": "code",
      "metadata": {
        "id": "qCgYTx7kE_iL",
        "colab_type": "code",
        "outputId": "056b6922-1d59-431d-be73-fc2ca9e055a1",
        "colab": {
          "base_uri": "https://localhost:8080/",
          "height": 190
        }
      },
      "source": [
        "atlasesDir = ('/content/gdrive/My Drive/')\n",
        "# AALAtlas = atlasesDir + 'MARSBARlookup.mat'\n",
        "craddockAtlas = atlasesDir + 'marsbar_2d.mat'\n",
        "atlas = loadmat(craddockAtlas)\n",
        "print(atlas)\n",
        "print(atlas['ROI_nos_2D'].shape)\n",
        "print(len(np.unique(atlas['ROI_nos_2D'])))\n",
        "# print(min(atlas['ROI_nos']), max(atlas['ROI_nos']))"
      ],
      "execution_count": 0,
      "outputs": [
        {
          "output_type": "stream",
          "text": [
            "{'__header__': b'MATLAB 5.0 MAT-file, Platform: GLNXA64, Created on: Sun Apr 26 01:31:20 2020', '__version__': '1.0', '__globals__': [], 'ROI_nos_2D': array([[ 0],\n",
            "       [ 0],\n",
            "       [ 0],\n",
            "       ...,\n",
            "       [82],\n",
            "       [82],\n",
            "       [75]], dtype=uint8)}\n",
            "(228453, 1)\n",
            "117\n"
          ],
          "name": "stdout"
        }
      ]
    },
    {
      "cell_type": "code",
      "metadata": {
        "id": "dTQQ6daU55l7",
        "colab_type": "code",
        "outputId": "18637515-b0fd-42e7-9e38-f9da00ef928c",
        "colab": {
          "base_uri": "https://localhost:8080/",
          "height": 187
        }
      },
      "source": [
        "atlas"
      ],
      "execution_count": 0,
      "outputs": [
        {
          "output_type": "execute_result",
          "data": {
            "text/plain": [
              "{'ROI_nos_2D': array([[ 0],\n",
              "        [ 0],\n",
              "        [ 0],\n",
              "        ...,\n",
              "        [82],\n",
              "        [82],\n",
              "        [75]], dtype=uint8),\n",
              " '__globals__': [],\n",
              " '__header__': b'MATLAB 5.0 MAT-file, Platform: GLNXA64, Created on: Sun Apr 26 01:31:20 2020',\n",
              " '__version__': '1.0'}"
            ]
          },
          "metadata": {
            "tags": []
          },
          "execution_count": 6
        }
      ]
    },
    {
      "cell_type": "markdown",
      "metadata": {
        "id": "iau3WlUtikYC",
        "colab_type": "text"
      },
      "source": [
        "Mus Data"
      ]
    },
    {
      "cell_type": "code",
      "metadata": {
        "id": "mgoldSIpeGVY",
        "colab_type": "code",
        "outputId": "cd0d8de8-99dd-40e8-c61a-9edf74eaaebc",
        "colab": {
          "base_uri": "https://localhost:8080/",
          "height": 323
        }
      },
      "source": [
        "data_mus = []\n",
        "df_atlas = pd.DataFrame(atlas['ROI_nos_2D'])\n",
        "dataDir = MusDataDir\n",
        "subject_files = subject_files_mus\n",
        "\n",
        "for file in subject_files:\n",
        "  print(file)\n",
        "  fmri = pd.DataFrame(loadmat(dataDir + file)['fmri'])\n",
        "  craddock = []\n",
        "  for i in range(0,951):\n",
        "    if len(df_atlas[df_atlas[0] == i]) > 0:\n",
        "      # print(i)\n",
        "      craddock.append(fmri.loc[df_atlas[df_atlas[0] == i].index].mean(skipna=True))      \n",
        "  data_mus.append(craddock)\n",
        "\n",
        "print(len(data_mus), len(data_mus[0]), len(data_mus[0][0]))"
      ],
      "execution_count": 0,
      "outputs": [
        {
          "output_type": "stream",
          "text": [
            "mus17_piazz.mat\n",
            "mus26_piazz.mat\n",
            "mus25_piazz.mat\n",
            "mus24_piazz.mat\n",
            "mus22_piazz.mat\n",
            "mus19_piazz.mat\n",
            "mus03_piazz.mat\n",
            "mus04_piazz.mat\n",
            "mus05_piazz.mat\n",
            "mus10_piazz.mat\n",
            "mus07_piazz.mat\n",
            "mus13_piazz.mat\n",
            "mus14_piazz.mat\n",
            "mus08_piazz.mat\n",
            "mus09_piazz.mat\n",
            "mus15_piazz.mat\n",
            "mus16_piazz.mat\n",
            "17 117 244\n"
          ],
          "name": "stdout"
        }
      ]
    },
    {
      "cell_type": "markdown",
      "metadata": {
        "id": "5NH84OHCiroi",
        "colab_type": "text"
      },
      "source": [
        "NonMus Data"
      ]
    },
    {
      "cell_type": "code",
      "metadata": {
        "id": "Bg4wOGZVSV4E",
        "colab_type": "code",
        "outputId": "6514ed1d-fe09-49b2-b066-cc25b4ef4591",
        "colab": {
          "base_uri": "https://localhost:8080/",
          "height": 391
        }
      },
      "source": [
        "data_nonmus = []\n",
        "df_atlas = pd.DataFrame(atlas['ROI_nos_2D'])\n",
        "dataDir = NonMusDataDir\n",
        "subject_files = subject_files_nonmus\n",
        "\n",
        "for file in subject_files:\n",
        "  print(file)\n",
        "  fmri = pd.DataFrame(loadmat(dataDir + file)['fmri'])\n",
        "  craddock = []\n",
        "  for i in range(0,951):\n",
        "    if len(df_atlas[df_atlas[0] == i]) > 0:\n",
        "      # print(i)\n",
        "      craddock.append(fmri.loc[df_atlas[df_atlas[0] == i].index].mean(skipna=True))      \n",
        "  data_nonmus.append(craddock)\n",
        "\n",
        "print(len(data_nonmus), len(data_nonmus[0]), len(data_nonmus[0][0]))"
      ],
      "execution_count": 0,
      "outputs": [
        {
          "output_type": "stream",
          "text": [
            "nonmus51_piazz.mat\n",
            "nonmus47_piazz.mat\n",
            "nonmus46_piazz.mat\n",
            "nonmus45_piazz.mat\n",
            "nonmus43_piazz.mat\n",
            "nonmus36_piazz.mat\n",
            "nonmus32_piazz.mat\n",
            "nonmus30_piazz.mat\n",
            "nonmus29_piazz.mat\n",
            "nonmus01_piazz.mat\n",
            "nonmus02_piazz.mat\n",
            "nonmus03_piazz.mat\n",
            "nonmus05_piazz.mat\n",
            "nonmus06_piazz.mat\n",
            "nonmus09_piazz.mat\n",
            "nonmus12_piazz.mat\n",
            "nonmus13_piazz.mat\n",
            "nonmus22_piazz.mat\n",
            "nonmus25_piazz.mat\n",
            "nonmus26_piazz.mat\n",
            "nonmus27_piazz.mat\n",
            "21 117 244\n"
          ],
          "name": "stdout"
        }
      ]
    },
    {
      "cell_type": "code",
      "metadata": {
        "id": "q15JvUujQbCL",
        "colab_type": "code",
        "outputId": "2b21033a-9b10-4cc9-ddba-909423f56816",
        "colab": {
          "base_uri": "https://localhost:8080/",
          "height": 34
        }
      },
      "source": [
        "regions = ['','Amygdala (L)',\n",
        "'Amygdala (R)',\n",
        "'Angular gyrus (L)',\n",
        "'Angular gyrus (R)',\n",
        "'Calcarine fissure and surrounding cortex (L)',\n",
        "'Calcarine fissure and surrounding cortex (R)',\n",
        "'Caudate nucleus (L)',\n",
        "'Caudate nucleus (R)',\n",
        "'Lobule X of cerebellum (L)',\n",
        "'Lobule X of cerebellum (R)',\n",
        "'Lobule III of cerebellum (L)',\n",
        "'Lobule III of cerebellum (R)',\n",
        "'Lobules IV-V of cerebellum (L)',\n",
        "'Lobules IV-V of cerebellum (R)',\n",
        "'Lobule VI of cerebellum (L)',\n",
        "'Lobule VI of cerebellum (R)',\n",
        "'Lobule VIIB of cerebellum (L)',\n",
        "'Lobule VIIB of cerebellum (R)',\n",
        "'Lobule VIII of cerebellum (L)',\n",
        "'Lobule VIII of cerebellum (R)',\n",
        "'Lobule IX of cerebellum (L)',\n",
        "'Lobule IX of cerebellum (R)',\n",
        "'Crus I of cerebellum (L)',\n",
        "'Crus I of cerebellum (R)',\n",
        "'Crus II of cerebellum (L)',\n",
        "'Crus II of cerebellum (R)',\n",
        "'Anterior cingulate and paracingulate gyrus (L)',\n",
        "'Anterior cingulate and paracingulate gyrus (R)',\n",
        "'Median cingulate and paracingulate gyrus (L)',\n",
        "'Median cingulate and paracingulate gyrus (R)',\n",
        "'Posterior cingulate and paracingulate gyrus (L)',\n",
        "'Posterior cingulate and paracingulate gyrus (R)',\n",
        "'Cuneus (L)',\n",
        "'Cuneus (R)',\n",
        "'Inferior frontal gyrus, opercular part (L)',\n",
        "'Inferior frontal gyrus, opercular part (R)',\n",
        "'Inferior frontal gyrus, orbital part (L)',\n",
        "'Inferior frontal gyrus, orbital part (R)',\n",
        "'Inferior frontal gyrus, triangular part (L)',\n",
        "'Inferior frontal gyrus, triangular part (R)',\n",
        "'Inferior frontal gyrus, medial orbital (L)',\n",
        "'Inferior frontal gyrus, medial orbital (R)',\n",
        "'Middle frontal gyrus (L)',\n",
        "'Middle frontal gyrus, orbital part (L)',\n",
        "'Middle frontal gyrus, orbital part (R)',\n",
        "'Middle frontal gyrus (R)',\n",
        "'Superior frontal gyrus (L) ',\n",
        "'Superior frontal gyrus, medial (L)',\n",
        "'Superior frontal gyrus, medial (R)',\n",
        "'Superior frontal gyrus, orbital part (L)',\n",
        "'Superior frontal gyrus, orbital part (R)',\n",
        "'Superior frontal gyrus (R)',\n",
        "'Fusiform gyrus (L)',\n",
        "'Fusiform gyrus (R)',\n",
        "'Heschl''s gyrus (L)',\n",
        "'Heschl''s gyrus (R)',\n",
        "'Hippocampus (L)',\n",
        "'Hippocampus (R)',\n",
        "'Insula (L)',\n",
        "'Insula (R)',\n",
        "'Lingual gyrus (L)',\n",
        "'Lingual gyrus (R)',\n",
        "'Inferior occipital gyrus (L)',\n",
        "'Inferior occipital gyrus (R)',\n",
        "'Middle occipital gyrus (L)',\n",
        "'Middle occipital gyrus (R)',\n",
        "'Superior occipital gyrus (L)',\n",
        "'Superior occipital gyrus (R)',\n",
        "'Olfactory cortex (L)',\n",
        "'Olfactory cortex (R)',\n",
        "'Globus pallidus (L)',\n",
        "'Globus pallidus (R)',\n",
        "'Parahippocampal gyrus (L)',\n",
        "'Parahippocampal gyrus (R)',\n",
        "'Paracentral lobule (L)',\n",
        "'Paracentral lobule (R)',\n",
        "'Inferior parietal, but supramarginal and angular gyri (L)',\n",
        "'Inferior parietal, but supramarginal and angular gyri (R)',\n",
        "'Superior parietal gyrus (L)',\n",
        "'Superior parietal gyrus (R)',\n",
        "'Postcentral gyrus (L)',\n",
        "'Postcentral gyrus (R)',\n",
        "'Precentral gyrus (L)',\n",
        "'Precentral gyrus (R)',\n",
        "'Precuneus (L)',\n",
        "'Precuneus (R)',\n",
        "'Putamen (L)',\n",
        "'Putamen (R)',\n",
        "'Gyrus rectus (L)',\n",
        "'Gyrus rectus (R)',\n",
        "'Rolandic operculum (L)',\n",
        "'Rolandic operculum (R)',\n",
        "'Supplementary motor area (L)',\n",
        "'Supplementary motor area (R)',\n",
        "'Supramarginal gyrus (L)',\n",
        "'Supramarginal gyrus (R)',\n",
        "'Inferior temporal gyrus (L)',\n",
        "'Inferior temporal gyrus (R)',\n",
        "'Middle temporal gyrus (L)',\n",
        "'Middle temporal gyrus (R)',\n",
        "'Temporal pole, middle temporal gyrus (L)',\n",
        "'Temporal pole, middle temporal gyrus (R)',\n",
        "'Temporal pole, superior temporal gyrus (L)',\n",
        "'Temporal pole, superior temporal gyrus (R)',\n",
        "'Superior temporal gyrus (L)',\n",
        "'Superior temporal gyrus (R)',\n",
        "'Thalamus (L)',\n",
        "'Thalamus (R)',\n",
        "'Vermis X of cerebellum',\n",
        "'Vermis I-II of cerebellum',\n",
        "'Vermis III of cerebellum',\n",
        "'Vermis IV-V of cerebellum',\n",
        "'Vermis VI of cerebellum',\n",
        "'Vermis VII of cerebellum',\n",
        "'Vermis VIII of cerebellum',\n",
        "'Vermis IX of cerebellum']\n",
        "print(len(regions))"
      ],
      "execution_count": 0,
      "outputs": [
        {
          "output_type": "stream",
          "text": [
            "117\n"
          ],
          "name": "stdout"
        }
      ]
    },
    {
      "cell_type": "code",
      "metadata": {
        "id": "4oorK_LcB4iP",
        "colab_type": "code",
        "outputId": "68718c3e-306f-44dc-85dd-a9124e715a79",
        "colab": {
          "base_uri": "https://localhost:8080/",
          "height": 54
        }
      },
      "source": [
        "from collections import OrderedDict\n",
        "import operator\n",
        "\n",
        "data_mus = np.array(data_mus)\n",
        "freq = {}\n",
        "for h in range(0,200):\n",
        "  freq[h] = 0\n",
        "for i in data_mus:\n",
        "  v = np.var(i, axis=1)\n",
        "  c = 0\n",
        "  for j in v:\n",
        "    c += 1\n",
        "    if(j>1):\n",
        "      freq[c] = freq[c] + 1\n",
        "\n",
        "d = freq\n",
        "d_descending = OrderedDict(sorted(d.items(), reverse=True))\n",
        "# print(d_descending)\n",
        "cd = sorted(d.items(),key=operator.itemgetter(1),reverse=True)\n",
        "print(cd)"
      ],
      "execution_count": 0,
      "outputs": [
        {
          "output_type": "stream",
          "text": [
            "[(49, 13), (42, 11), (35, 10), (50, 10), (79, 10), (5, 9), (34, 9), (65, 9), (76, 9), (81, 9), (86, 9), (4, 8), (43, 8), (44, 8), (77, 8), (80, 8), (82, 8), (87, 8), (6, 7), (69, 7), (83, 7), (85, 7), (94, 7), (97, 7), (25, 6), (47, 6), (48, 6), (53, 6), (57, 6), (63, 6), (78, 6), (95, 6), (105, 6), (106, 6), (7, 5), (24, 5), (56, 5), (62, 5), (68, 5), (84, 5), (96, 5), (104, 5), (26, 4), (28, 4), (30, 4), (36, 4), (37, 4), (40, 4), (45, 4), (46, 4), (64, 4), (67, 4), (115, 4), (27, 3), (31, 3), (38, 3), (41, 3), (66, 3), (90, 3), (93, 3), (107, 3), (114, 3), (116, 3), (2, 2), (10, 2), (17, 2), (32, 2), (39, 2), (51, 2), (52, 2), (61, 2), (91, 2), (92, 2), (101, 2), (111, 2), (112, 2), (3, 1), (8, 1), (9, 1), (13, 1), (14, 1), (15, 1), (16, 1), (18, 1), (19, 1), (29, 1), (33, 1), (54, 1), (55, 1), (60, 1), (70, 1), (71, 1), (72, 1), (73, 1), (74, 1), (75, 1), (88, 1), (89, 1), (98, 1), (99, 1), (100, 1), (102, 1), (103, 1), (108, 1), (109, 1), (110, 1), (113, 1), (117, 1), (0, 0), (1, 0), (11, 0), (12, 0), (20, 0), (21, 0), (22, 0), (23, 0), (58, 0), (59, 0), (118, 0), (119, 0), (120, 0), (121, 0), (122, 0), (123, 0), (124, 0), (125, 0), (126, 0), (127, 0), (128, 0), (129, 0), (130, 0), (131, 0), (132, 0), (133, 0), (134, 0), (135, 0), (136, 0), (137, 0), (138, 0), (139, 0), (140, 0), (141, 0), (142, 0), (143, 0), (144, 0), (145, 0), (146, 0), (147, 0), (148, 0), (149, 0), (150, 0), (151, 0), (152, 0), (153, 0), (154, 0), (155, 0), (156, 0), (157, 0), (158, 0), (159, 0), (160, 0), (161, 0), (162, 0), (163, 0), (164, 0), (165, 0), (166, 0), (167, 0), (168, 0), (169, 0), (170, 0), (171, 0), (172, 0), (173, 0), (174, 0), (175, 0), (176, 0), (177, 0), (178, 0), (179, 0), (180, 0), (181, 0), (182, 0), (183, 0), (184, 0), (185, 0), (186, 0), (187, 0), (188, 0), (189, 0), (190, 0), (191, 0), (192, 0), (193, 0), (194, 0), (195, 0), (196, 0), (197, 0), (198, 0), (199, 0)]\n"
          ],
          "name": "stdout"
        }
      ]
    },
    {
      "cell_type": "code",
      "metadata": {
        "id": "7MTmNSpdSmu6",
        "colab_type": "code",
        "outputId": "85d1ce95-8d5b-4b79-e6fe-64d145242e64",
        "colab": {
          "base_uri": "https://localhost:8080/",
          "height": 54
        }
      },
      "source": [
        "import matplotlib.pyplot as plt\n",
        "\n",
        "final_mus = {}\n",
        "for i,j in cd:\n",
        "  if(i<117):\n",
        "    final_mus[regions[i]] = j\n",
        "\n",
        "# plt.bar(final_mus.keys(), final_mus.values(),  color='g')\n",
        "print(final_mus)"
      ],
      "execution_count": 0,
      "outputs": [
        {
          "output_type": "stream",
          "text": [
            "{'Superior frontal gyrus, medial (R)': 13, 'Inferior frontal gyrus, medial orbital (R)': 11, 'Inferior frontal gyrus, opercular part (L)': 10, 'Superior frontal gyrus, orbital part (L)': 10, 'Superior parietal gyrus (L)': 10, 'Calcarine fissure and surrounding cortex (L)': 9, 'Cuneus (R)': 9, 'Middle occipital gyrus (L)': 9, 'Paracentral lobule (R)': 9, 'Postcentral gyrus (L)': 9, 'Precuneus (R)': 9, 'Angular gyrus (R)': 8, 'Middle frontal gyrus (L)': 8, 'Middle frontal gyrus, orbital part (L)': 8, 'Inferior parietal, but supramarginal and angular gyri (L)': 8, 'Superior parietal gyrus (R)': 8, 'Postcentral gyrus (R)': 8, 'Putamen (L)': 8, 'Calcarine fissure and surrounding cortex (R)': 7, 'Olfactory cortex (L)': 7, 'Precentral gyrus (L)': 7, 'Precuneus (L)': 7, 'Supplementary motor area (R)': 7, 'Inferior temporal gyrus (L)': 7, 'Crus II of cerebellum (L)': 6, 'Superior frontal gyrus (L) ': 6, 'Superior frontal gyrus, medial (L)': 6, 'Fusiform gyrus (L)': 6, 'Hippocampus (L)': 6, 'Inferior occipital gyrus (L)': 6, 'Inferior parietal, but supramarginal and angular gyri (R)': 6, 'Supramarginal gyrus (L)': 6, 'Superior temporal gyrus (L)': 6, 'Superior temporal gyrus (R)': 6, 'Caudate nucleus (L)': 5, 'Crus I of cerebellum (R)': 5, 'Heschls gyrus (R)': 5, 'Lingual gyrus (R)': 5, 'Superior occipital gyrus (R)': 5, 'Precentral gyrus (R)': 5, 'Supramarginal gyrus (R)': 5, 'Temporal pole, superior temporal gyrus (R)': 5, 'Crus II of cerebellum (R)': 4, 'Anterior cingulate and paracingulate gyrus (R)': 4, 'Median cingulate and paracingulate gyrus (R)': 4, 'Inferior frontal gyrus, opercular part (R)': 4, 'Inferior frontal gyrus, orbital part (L)': 4, 'Inferior frontal gyrus, triangular part (R)': 4, 'Middle frontal gyrus, orbital part (R)': 4, 'Middle frontal gyrus (R)': 4, 'Inferior occipital gyrus (R)': 4, 'Superior occipital gyrus (L)': 4, 'Vermis VIII of cerebellum': 4, 'Anterior cingulate and paracingulate gyrus (L)': 3, 'Posterior cingulate and paracingulate gyrus (L)': 3, 'Inferior frontal gyrus, orbital part (R)': 3, 'Inferior frontal gyrus, medial orbital (L)': 3, 'Middle occipital gyrus (R)': 3, 'Gyrus rectus (R)': 3, 'Supplementary motor area (L)': 3, 'Thalamus (L)': 3, 'Vermis VII of cerebellum': 3, 'Vermis IX of cerebellum': 3, 'Amygdala (R)': 2, 'Lobule X of cerebellum (R)': 2, 'Lobule VIIB of cerebellum (L)': 2, 'Posterior cingulate and paracingulate gyrus (R)': 2, 'Inferior frontal gyrus, triangular part (L)': 2, 'Superior frontal gyrus, orbital part (R)': 2, 'Superior frontal gyrus (R)': 2, 'Lingual gyrus (L)': 2, 'Rolandic operculum (L)': 2, 'Rolandic operculum (R)': 2, 'Temporal pole, middle temporal gyrus (L)': 2, 'Vermis III of cerebellum': 2, 'Vermis IV-V of cerebellum': 2, 'Angular gyrus (L)': 1, 'Caudate nucleus (R)': 1, 'Lobule X of cerebellum (L)': 1, 'Lobules IV-V of cerebellum (L)': 1, 'Lobules IV-V of cerebellum (R)': 1, 'Lobule VI of cerebellum (L)': 1, 'Lobule VI of cerebellum (R)': 1, 'Lobule VIIB of cerebellum (R)': 1, 'Lobule VIII of cerebellum (L)': 1, 'Median cingulate and paracingulate gyrus (L)': 1, 'Cuneus (L)': 1, 'Fusiform gyrus (R)': 1, 'Heschls gyrus (L)': 1, 'Insula (R)': 1, 'Olfactory cortex (R)': 1, 'Globus pallidus (L)': 1, 'Globus pallidus (R)': 1, 'Parahippocampal gyrus (L)': 1, 'Parahippocampal gyrus (R)': 1, 'Paracentral lobule (L)': 1, 'Putamen (R)': 1, 'Gyrus rectus (L)': 1, 'Inferior temporal gyrus (R)': 1, 'Middle temporal gyrus (L)': 1, 'Middle temporal gyrus (R)': 1, 'Temporal pole, middle temporal gyrus (R)': 1, 'Temporal pole, superior temporal gyrus (L)': 1, 'Thalamus (R)': 1, 'Vermis X of cerebellum': 1, 'Vermis I-II of cerebellum': 1, 'Vermis VI of cerebellum': 1, '': 0, 'Amygdala (L)': 0, 'Lobule III of cerebellum (L)': 0, 'Lobule III of cerebellum (R)': 0, 'Lobule VIII of cerebellum (R)': 0, 'Lobule IX of cerebellum (L)': 0, 'Lobule IX of cerebellum (R)': 0, 'Crus I of cerebellum (L)': 0, 'Hippocampus (R)': 0, 'Insula (L)': 0}\n"
          ],
          "name": "stdout"
        }
      ]
    },
    {
      "cell_type": "code",
      "metadata": {
        "id": "YO8mY5kbGtXn",
        "colab_type": "code",
        "outputId": "4e0d4ab8-03c9-45fd-ec89-7d354c48dc52",
        "colab": {
          "base_uri": "https://localhost:8080/",
          "height": 54
        }
      },
      "source": [
        "data_nonmus = np.array(data_nonmus)\n",
        "freq = {}\n",
        "for h in range(0,200):\n",
        "  freq[h] = 0\n",
        "for i in data_nonmus:\n",
        "  v = np.var(i, axis=1)\n",
        "  c = 0\n",
        "  for j in v:\n",
        "    c += 1\n",
        "    if(j>1):\n",
        "      freq[c] = freq[c] + 1\n",
        "\n",
        "d = freq\n",
        "cd = sorted(d.items(),key=operator.itemgetter(1),reverse=True)\n",
        "print(cd)"
      ],
      "execution_count": 0,
      "outputs": [
        {
          "output_type": "stream",
          "text": [
            "[(81, 13), (5, 11), (49, 9), (50, 9), (79, 9), (80, 9), (4, 8), (34, 8), (86, 8), (87, 7), (35, 6), (42, 6), (68, 6), (77, 6), (94, 6), (97, 6), (46, 5), (69, 5), (6, 4), (44, 4), (47, 4), (48, 4), (65, 4), (78, 4), (95, 4), (105, 4), (43, 3), (64, 3), (67, 3), (83, 3), (111, 3), (24, 2), (25, 2), (26, 2), (27, 2), (28, 2), (37, 2), (39, 2), (66, 2), (82, 2), (107, 2), (7, 1), (10, 1), (11, 1), (31, 1), (36, 1), (40, 1), (41, 1), (45, 1), (53, 1), (57, 1), (62, 1), (63, 1), (76, 1), (85, 1), (93, 1), (96, 1), (101, 1), (103, 1), (104, 1), (106, 1), (0, 0), (1, 0), (2, 0), (3, 0), (8, 0), (9, 0), (12, 0), (13, 0), (14, 0), (15, 0), (16, 0), (17, 0), (18, 0), (19, 0), (20, 0), (21, 0), (22, 0), (23, 0), (29, 0), (30, 0), (32, 0), (33, 0), (38, 0), (51, 0), (52, 0), (54, 0), (55, 0), (56, 0), (58, 0), (59, 0), (60, 0), (61, 0), (70, 0), (71, 0), (72, 0), (73, 0), (74, 0), (75, 0), (84, 0), (88, 0), (89, 0), (90, 0), (91, 0), (92, 0), (98, 0), (99, 0), (100, 0), (102, 0), (108, 0), (109, 0), (110, 0), (112, 0), (113, 0), (114, 0), (115, 0), (116, 0), (117, 0), (118, 0), (119, 0), (120, 0), (121, 0), (122, 0), (123, 0), (124, 0), (125, 0), (126, 0), (127, 0), (128, 0), (129, 0), (130, 0), (131, 0), (132, 0), (133, 0), (134, 0), (135, 0), (136, 0), (137, 0), (138, 0), (139, 0), (140, 0), (141, 0), (142, 0), (143, 0), (144, 0), (145, 0), (146, 0), (147, 0), (148, 0), (149, 0), (150, 0), (151, 0), (152, 0), (153, 0), (154, 0), (155, 0), (156, 0), (157, 0), (158, 0), (159, 0), (160, 0), (161, 0), (162, 0), (163, 0), (164, 0), (165, 0), (166, 0), (167, 0), (168, 0), (169, 0), (170, 0), (171, 0), (172, 0), (173, 0), (174, 0), (175, 0), (176, 0), (177, 0), (178, 0), (179, 0), (180, 0), (181, 0), (182, 0), (183, 0), (184, 0), (185, 0), (186, 0), (187, 0), (188, 0), (189, 0), (190, 0), (191, 0), (192, 0), (193, 0), (194, 0), (195, 0), (196, 0), (197, 0), (198, 0), (199, 0)]\n"
          ],
          "name": "stdout"
        }
      ]
    },
    {
      "cell_type": "code",
      "metadata": {
        "id": "PCymBbYtXpzi",
        "colab_type": "code",
        "outputId": "646523fd-8d8d-4b7b-ca55-0d43cec68606",
        "colab": {
          "base_uri": "https://localhost:8080/",
          "height": 54
        }
      },
      "source": [
        "final_nonmus = {}\n",
        "for i,j in cd:\n",
        "  if(i<117):\n",
        "    final_nonmus[regions[i]] = j\n",
        "\n",
        "print(final_nonmus)"
      ],
      "execution_count": 0,
      "outputs": [
        {
          "output_type": "stream",
          "text": [
            "{'Postcentral gyrus (L)': 13, 'Calcarine fissure and surrounding cortex (L)': 11, 'Superior frontal gyrus, medial (R)': 9, 'Superior frontal gyrus, orbital part (L)': 9, 'Superior parietal gyrus (L)': 9, 'Superior parietal gyrus (R)': 9, 'Angular gyrus (R)': 8, 'Cuneus (R)': 8, 'Precuneus (R)': 8, 'Putamen (L)': 7, 'Inferior frontal gyrus, opercular part (L)': 6, 'Inferior frontal gyrus, medial orbital (R)': 6, 'Superior occipital gyrus (R)': 6, 'Inferior parietal, but supramarginal and angular gyri (L)': 6, 'Supplementary motor area (R)': 6, 'Inferior temporal gyrus (L)': 6, 'Middle frontal gyrus (R)': 5, 'Olfactory cortex (L)': 5, 'Calcarine fissure and surrounding cortex (R)': 4, 'Middle frontal gyrus, orbital part (L)': 4, 'Superior frontal gyrus (L) ': 4, 'Superior frontal gyrus, medial (L)': 4, 'Middle occipital gyrus (L)': 4, 'Inferior parietal, but supramarginal and angular gyri (R)': 4, 'Supramarginal gyrus (L)': 4, 'Superior temporal gyrus (L)': 4, 'Middle frontal gyrus (L)': 3, 'Inferior occipital gyrus (R)': 3, 'Superior occipital gyrus (L)': 3, 'Precentral gyrus (L)': 3, 'Vermis III of cerebellum': 3, 'Crus I of cerebellum (R)': 2, 'Crus II of cerebellum (L)': 2, 'Crus II of cerebellum (R)': 2, 'Anterior cingulate and paracingulate gyrus (L)': 2, 'Anterior cingulate and paracingulate gyrus (R)': 2, 'Inferior frontal gyrus, orbital part (L)': 2, 'Inferior frontal gyrus, triangular part (L)': 2, 'Middle occipital gyrus (R)': 2, 'Postcentral gyrus (R)': 2, 'Thalamus (L)': 2, 'Caudate nucleus (L)': 1, 'Lobule X of cerebellum (R)': 1, 'Lobule III of cerebellum (L)': 1, 'Posterior cingulate and paracingulate gyrus (L)': 1, 'Inferior frontal gyrus, opercular part (R)': 1, 'Inferior frontal gyrus, triangular part (R)': 1, 'Inferior frontal gyrus, medial orbital (L)': 1, 'Middle frontal gyrus, orbital part (R)': 1, 'Fusiform gyrus (L)': 1, 'Hippocampus (L)': 1, 'Lingual gyrus (R)': 1, 'Inferior occipital gyrus (L)': 1, 'Paracentral lobule (R)': 1, 'Precuneus (L)': 1, 'Supplementary motor area (L)': 1, 'Supramarginal gyrus (R)': 1, 'Temporal pole, middle temporal gyrus (L)': 1, 'Temporal pole, superior temporal gyrus (L)': 1, 'Temporal pole, superior temporal gyrus (R)': 1, 'Superior temporal gyrus (R)': 1, '': 0, 'Amygdala (L)': 0, 'Amygdala (R)': 0, 'Angular gyrus (L)': 0, 'Caudate nucleus (R)': 0, 'Lobule X of cerebellum (L)': 0, 'Lobule III of cerebellum (R)': 0, 'Lobules IV-V of cerebellum (L)': 0, 'Lobules IV-V of cerebellum (R)': 0, 'Lobule VI of cerebellum (L)': 0, 'Lobule VI of cerebellum (R)': 0, 'Lobule VIIB of cerebellum (L)': 0, 'Lobule VIIB of cerebellum (R)': 0, 'Lobule VIII of cerebellum (L)': 0, 'Lobule VIII of cerebellum (R)': 0, 'Lobule IX of cerebellum (L)': 0, 'Lobule IX of cerebellum (R)': 0, 'Crus I of cerebellum (L)': 0, 'Median cingulate and paracingulate gyrus (L)': 0, 'Median cingulate and paracingulate gyrus (R)': 0, 'Posterior cingulate and paracingulate gyrus (R)': 0, 'Cuneus (L)': 0, 'Inferior frontal gyrus, orbital part (R)': 0, 'Superior frontal gyrus, orbital part (R)': 0, 'Superior frontal gyrus (R)': 0, 'Fusiform gyrus (R)': 0, 'Heschls gyrus (L)': 0, 'Heschls gyrus (R)': 0, 'Hippocampus (R)': 0, 'Insula (L)': 0, 'Insula (R)': 0, 'Lingual gyrus (L)': 0, 'Olfactory cortex (R)': 0, 'Globus pallidus (L)': 0, 'Globus pallidus (R)': 0, 'Parahippocampal gyrus (L)': 0, 'Parahippocampal gyrus (R)': 0, 'Paracentral lobule (L)': 0, 'Precentral gyrus (R)': 0, 'Putamen (R)': 0, 'Gyrus rectus (L)': 0, 'Gyrus rectus (R)': 0, 'Rolandic operculum (L)': 0, 'Rolandic operculum (R)': 0, 'Inferior temporal gyrus (R)': 0, 'Middle temporal gyrus (L)': 0, 'Middle temporal gyrus (R)': 0, 'Temporal pole, middle temporal gyrus (R)': 0, 'Thalamus (R)': 0, 'Vermis X of cerebellum': 0, 'Vermis I-II of cerebellum': 0, 'Vermis IV-V of cerebellum': 0, 'Vermis VI of cerebellum': 0, 'Vermis VII of cerebellum': 0, 'Vermis VIII of cerebellum': 0, 'Vermis IX of cerebellum': 0}\n"
          ],
          "name": "stdout"
        }
      ]
    },
    {
      "cell_type": "code",
      "metadata": {
        "id": "OFUeG-mgkWgr",
        "colab_type": "code",
        "outputId": "15decc27-9443-4321-d4e0-8e0c6704fb4f",
        "colab": {
          "base_uri": "https://localhost:8080/",
          "height": 54
        }
      },
      "source": [
        "from collections import Counter\n",
        "final_dict = dict(Counter(final_mus)+Counter(final_nonmus))\n",
        "\n",
        "print(final_dict)"
      ],
      "execution_count": 0,
      "outputs": [
        {
          "output_type": "stream",
          "text": [
            "{'Superior frontal gyrus, medial (R)': 22, 'Inferior frontal gyrus, medial orbital (R)': 17, 'Inferior frontal gyrus, opercular part (L)': 16, 'Superior frontal gyrus, orbital part (L)': 19, 'Superior parietal gyrus (L)': 19, 'Calcarine fissure and surrounding cortex (L)': 20, 'Cuneus (R)': 17, 'Middle occipital gyrus (L)': 13, 'Paracentral lobule (R)': 10, 'Postcentral gyrus (L)': 22, 'Precuneus (R)': 17, 'Angular gyrus (R)': 16, 'Middle frontal gyrus (L)': 11, 'Middle frontal gyrus, orbital part (L)': 12, 'Inferior parietal, but supramarginal and angular gyri (L)': 14, 'Superior parietal gyrus (R)': 17, 'Postcentral gyrus (R)': 10, 'Putamen (L)': 15, 'Calcarine fissure and surrounding cortex (R)': 11, 'Olfactory cortex (L)': 12, 'Precentral gyrus (L)': 10, 'Precuneus (L)': 8, 'Supplementary motor area (R)': 13, 'Inferior temporal gyrus (L)': 13, 'Crus II of cerebellum (L)': 8, 'Superior frontal gyrus (L) ': 10, 'Superior frontal gyrus, medial (L)': 10, 'Fusiform gyrus (L)': 7, 'Hippocampus (L)': 7, 'Inferior occipital gyrus (L)': 7, 'Inferior parietal, but supramarginal and angular gyri (R)': 10, 'Supramarginal gyrus (L)': 10, 'Superior temporal gyrus (L)': 10, 'Superior temporal gyrus (R)': 7, 'Caudate nucleus (L)': 6, 'Crus I of cerebellum (R)': 7, 'Heschls gyrus (R)': 5, 'Lingual gyrus (R)': 6, 'Superior occipital gyrus (R)': 11, 'Precentral gyrus (R)': 5, 'Supramarginal gyrus (R)': 6, 'Temporal pole, superior temporal gyrus (R)': 6, 'Crus II of cerebellum (R)': 6, 'Anterior cingulate and paracingulate gyrus (R)': 6, 'Median cingulate and paracingulate gyrus (R)': 4, 'Inferior frontal gyrus, opercular part (R)': 5, 'Inferior frontal gyrus, orbital part (L)': 6, 'Inferior frontal gyrus, triangular part (R)': 5, 'Middle frontal gyrus, orbital part (R)': 5, 'Middle frontal gyrus (R)': 9, 'Inferior occipital gyrus (R)': 7, 'Superior occipital gyrus (L)': 7, 'Vermis VIII of cerebellum': 4, 'Anterior cingulate and paracingulate gyrus (L)': 5, 'Posterior cingulate and paracingulate gyrus (L)': 4, 'Inferior frontal gyrus, orbital part (R)': 3, 'Inferior frontal gyrus, medial orbital (L)': 4, 'Middle occipital gyrus (R)': 5, 'Gyrus rectus (R)': 3, 'Supplementary motor area (L)': 4, 'Thalamus (L)': 5, 'Vermis VII of cerebellum': 3, 'Vermis IX of cerebellum': 3, 'Amygdala (R)': 2, 'Lobule X of cerebellum (R)': 3, 'Lobule VIIB of cerebellum (L)': 2, 'Posterior cingulate and paracingulate gyrus (R)': 2, 'Inferior frontal gyrus, triangular part (L)': 4, 'Superior frontal gyrus, orbital part (R)': 2, 'Superior frontal gyrus (R)': 2, 'Lingual gyrus (L)': 2, 'Rolandic operculum (L)': 2, 'Rolandic operculum (R)': 2, 'Temporal pole, middle temporal gyrus (L)': 3, 'Vermis III of cerebellum': 5, 'Vermis IV-V of cerebellum': 2, 'Angular gyrus (L)': 1, 'Caudate nucleus (R)': 1, 'Lobule X of cerebellum (L)': 1, 'Lobules IV-V of cerebellum (L)': 1, 'Lobules IV-V of cerebellum (R)': 1, 'Lobule VI of cerebellum (L)': 1, 'Lobule VI of cerebellum (R)': 1, 'Lobule VIIB of cerebellum (R)': 1, 'Lobule VIII of cerebellum (L)': 1, 'Median cingulate and paracingulate gyrus (L)': 1, 'Cuneus (L)': 1, 'Fusiform gyrus (R)': 1, 'Heschls gyrus (L)': 1, 'Insula (R)': 1, 'Olfactory cortex (R)': 1, 'Globus pallidus (L)': 1, 'Globus pallidus (R)': 1, 'Parahippocampal gyrus (L)': 1, 'Parahippocampal gyrus (R)': 1, 'Paracentral lobule (L)': 1, 'Putamen (R)': 1, 'Gyrus rectus (L)': 1, 'Inferior temporal gyrus (R)': 1, 'Middle temporal gyrus (L)': 1, 'Middle temporal gyrus (R)': 1, 'Temporal pole, middle temporal gyrus (R)': 1, 'Temporal pole, superior temporal gyrus (L)': 2, 'Thalamus (R)': 1, 'Vermis X of cerebellum': 1, 'Vermis I-II of cerebellum': 1, 'Vermis VI of cerebellum': 1, 'Lobule III of cerebellum (L)': 1}\n"
          ],
          "name": "stdout"
        }
      ]
    },
    {
      "cell_type": "code",
      "metadata": {
        "id": "-eoz0WPqmMgw",
        "colab_type": "code",
        "outputId": "f3076ebb-667f-45d3-c7d7-346c8f8bdaf3",
        "colab": {
          "base_uri": "https://localhost:8080/",
          "height": 393
        }
      },
      "source": [
        "import matplotlib.pyplot as plt\n",
        "\n",
        "cd2 = sorted(final_mus.items(),key=operator.itemgetter(1),reverse=True)\n",
        "cd2 = cd2[0:9]\n",
        "# print(cd2)\n",
        "newdict = {}\n",
        "for i,j in cd2:\n",
        "    newdict[i]=j\n",
        "\n",
        "plt.figure(figsize=(30,10))\n",
        "print(\"For musicians\")\n",
        "plt.bar(newdict.keys(), newdict.values(),0.5, color='#C1062B')"
      ],
      "execution_count": 0,
      "outputs": [
        {
          "output_type": "stream",
          "text": [
            "For musicians\n"
          ],
          "name": "stdout"
        },
        {
          "output_type": "execute_result",
          "data": {
            "text/plain": [
              "<BarContainer object of 9 artists>"
            ]
          },
          "metadata": {
            "tags": []
          },
          "execution_count": 15
        },
        {
          "output_type": "display_data",
          "data": {
            "image/png": "[encoded data removed]",
            "text/plain": [
              "<Figure size 2160x720 with 1 Axes>"
            ]
          },
          "metadata": {
            "tags": [],
            "needs_background": "light"
          }
        }
      ]
    },
    {
      "cell_type": "code",
      "metadata": {
        "id": "TkNc55VyuxQ2",
        "colab_type": "code",
        "outputId": "8e824ba1-7084-4384-9473-176d4500855e",
        "colab": {
          "base_uri": "https://localhost:8080/",
          "height": 393
        }
      },
      "source": [
        "cd3 = sorted(final_nonmus.items(),key=operator.itemgetter(1),reverse=True)\n",
        "cd3 = cd3[0:9]\n",
        "# print(cd3)\n",
        "newdict2 = {}\n",
        "for i,j in cd3:\n",
        "    newdict2[i]=j\n",
        "# print(newdict2)\n",
        "\n",
        "plt.figure(figsize=(30,10))\n",
        "print(\"For non-musicians\")\n",
        "plt.bar(newdict2.keys(), newdict2.values(),0.5, color='#C1062B')"
      ],
      "execution_count": 0,
      "outputs": [
        {
          "output_type": "stream",
          "text": [
            "For non-musicians\n"
          ],
          "name": "stdout"
        },
        {
          "output_type": "execute_result",
          "data": {
            "text/plain": [
              "<BarContainer object of 9 artists>"
            ]
          },
          "metadata": {
            "tags": []
          },
          "execution_count": 16
        },
        {
          "output_type": "display_data",
          "data": {
            "image/png": "[encoded data removed]",
            "text/plain": [
              "<Figure size 2160x720 with 1 Axes>"
            ]
          },
          "metadata": {
            "tags": [],
            "needs_background": "light"
          }
        }
      ]
    },
    {
      "cell_type": "code",
      "metadata": {
        "id": "irShrhuluyBO",
        "colab_type": "code",
        "outputId": "27523237-9187-4afa-84f8-39772533335e",
        "colab": {
          "base_uri": "https://localhost:8080/",
          "height": 393
        }
      },
      "source": [
        "cd4 = sorted(final_dict.items(),key=operator.itemgetter(1),reverse=True)\n",
        "cd4 = cd4[0:9]\n",
        "# print(cd3)\n",
        "newdict3 = {}\n",
        "for i,j in cd4:\n",
        "    newdict3[i]=j\n",
        "# print(newdict2)\n",
        "\n",
        "plt.figure(figsize=(30,10))\n",
        "print(\"For all\")\n",
        "plt.bar(newdict3.keys(), newdict3.values(),0.5, color='#C1062B')"
      ],
      "execution_count": 0,
      "outputs": [
        {
          "output_type": "stream",
          "text": [
            "For all\n"
          ],
          "name": "stdout"
        },
        {
          "output_type": "execute_result",
          "data": {
            "text/plain": [
              "<BarContainer object of 9 artists>"
            ]
          },
          "metadata": {
            "tags": []
          },
          "execution_count": 17
        },
        {
          "output_type": "display_data",
          "data": {
            "image/png": "[encoded data removed]",
            "text/plain": [
              "<Figure size 2160x720 with 1 Axes>"
            ]
          },
          "metadata": {
            "tags": [],
            "needs_background": "light"
          }
        }
      ]
    },
    {
      "cell_type": "markdown",
      "metadata": {
        "id": "dsa08lzmfx0J",
        "colab_type": "text"
      },
      "source": [
        "# Data Reduction Techniques"
      ]
    },
    {
      "cell_type": "markdown",
      "metadata": {
        "id": "lw36GClreD0K",
        "colab_type": "text"
      },
      "source": [
        "#TO-DO: \n",
        "1. Mean across all subjects to get 841 * 244 size matrix. \n",
        "2. Perform a dimension reduction technique and for every technique you use check how much variance is explained by explained by resulting data(A way to check how much of the whole data is still retained. )\n",
        "3. Now, lets say you get 100 * 244 matrix i.e. 100 regions captures most of the information, now get all these regions from 38 subjects you have and then build appropriate model. So now your data should be of size 38 * 100 * 244, of which keep 20% for test and rest train."
      ]
    },
    {
      "cell_type": "code",
      "metadata": {
        "id": "Yo28p2zhTjm0",
        "colab_type": "code",
        "colab": {}
      },
      "source": [
        "# Flatten to apply PCA\n",
        "# n = len(subject_files)\n",
        "# y1 = np.ones((len(subject_files),), dtype=int)\n",
        "\n",
        "# D = D.reshape(n, 228453 * 244)\n",
        "# print(D.shape)\n",
        "\n",
        "# print(D.shape)"
      ],
      "execution_count": 0,
      "outputs": []
    },
    {
      "cell_type": "code",
      "metadata": {
        "id": "qXgPbcHwfJkv",
        "colab_type": "code",
        "colab": {}
      },
      "source": [
        "y1 = []\n",
        "for s in subject_files_mus:\n",
        "  try:\n",
        "    y1.append((Dict[str(s[:6])])[0])\n",
        "  except:\n",
        "    print(s)"
      ],
      "execution_count": 0,
      "outputs": []
    },
    {
      "cell_type": "code",
      "metadata": {
        "colab_type": "code",
        "id": "98SO3NsbXr8P",
        "colab": {}
      },
      "source": [
        "# Conduct variance thresholding\n",
        "# D_nm = thresholder.transform(D_nm)\n",
        "# print(D_nm.shape)"
      ],
      "execution_count": 0,
      "outputs": []
    },
    {
      "cell_type": "code",
      "metadata": {
        "id": "16867h6rKOVj",
        "colab_type": "code",
        "outputId": "e795f1a5-431a-4044-d519-cca2e690b442",
        "colab": {
          "base_uri": "https://localhost:8080/",
          "height": 34
        }
      },
      "source": [
        "#median split\n",
        "y2 = []\n",
        "for s in subject_files_nonmus:\n",
        "  try:\n",
        "    y2.append((Dict[str(s[:9])])[0])\n",
        "  except:\n",
        "    print(s)\n",
        "y = np.concatenate((y1,y2))\n",
        "median = np.median(y)\n",
        "g = []\n",
        "for i in y:\n",
        "  if(i>median):\n",
        "    g.append(1)\n",
        "  else:\n",
        "    g.append(0)\n",
        "\n",
        "# y = np.array(g)\n",
        "print(len(y1),len(y2),y.shape)"
      ],
      "execution_count": 0,
      "outputs": [
        {
          "output_type": "stream",
          "text": [
            "17 21 (38,)\n"
          ],
          "name": "stdout"
        }
      ]
    },
    {
      "cell_type": "code",
      "metadata": {
        "id": "kSgq1vKYqR-6",
        "colab_type": "code",
        "outputId": "138dce2a-2ed8-461d-866c-32f76a4edd1e",
        "colab": {
          "base_uri": "https://localhost:8080/",
          "height": 85
        }
      },
      "source": [
        "# X = np.concatenate((D,D_nm))\n",
        "parcellated = np.concatenate((data_mus,data_nonmus))\n",
        "X = np.array(parcellated)\n",
        "print(X.shape,y.shape)\n",
        "\n",
        "# X = X.reshape(X.shape[0], 841 * 244)\n",
        "X_mean = np.mean(X,axis=0)\n",
        "# X = X[1:24]\n",
        "print(X.shape,y.shape)\n",
        "print(y)"
      ],
      "execution_count": 0,
      "outputs": [
        {
          "output_type": "stream",
          "text": [
            "(38, 117, 244) (38,)\n",
            "(38, 117, 244) (38,)\n",
            "[48 42 47 48 49 44 49 34 49 50 47 46 48 50 48 50 50 40 48 30 48 41 37 49\n",
            " 23  0 33 33 46 43 13 43 47 49 38 36 42 42]\n"
          ],
          "name": "stdout"
        }
      ]
    },
    {
      "cell_type": "code",
      "metadata": {
        "id": "WP9hP8uowa_N",
        "colab_type": "code",
        "colab": {}
      },
      "source": [
        "from sklearn.decomposition import PCA\n",
        "from sklearn.decomposition import KernelPCA\n",
        "from sklearn.model_selection import cross_val_score\n",
        "def get_pca(X,k):\n",
        "    \"\"\"\n",
        "        Get PCA of K dimension using the top eigen vectors \n",
        "    \"\"\"\n",
        "    pca = PCA(n_components=k)\n",
        "    X_k = pca.fit_transform(X)\n",
        "    print(pca.explained_variance_ratio_)\n",
        "    print(pca.explained_variance_ratio_.cumsum())\n",
        "    return X_k\n",
        "\n",
        "def get_kernel_pca(X, k,kernel='rbf', degree=3):\n",
        "    \"\"\"\n",
        "        @param: kernel => which kernel to use (“linear” | “poly” | “rbf” | “sigmoid” | “cosine” )\n",
        "    \"\"\"\n",
        "    kpca = KernelPCA(n_components=k,kernel=kernel,degree=degree)\n",
        "    X_k = kpca.fit_transform(X)\n",
        "    return X_k"
      ],
      "execution_count": 0,
      "outputs": []
    },
    {
      "cell_type": "code",
      "metadata": {
        "id": "qKBJE4zdyg7H",
        "colab_type": "code",
        "colab": {}
      },
      "source": [
        "from sklearn.feature_selection import VarianceThreshold\n",
        "\n",
        "def variance_thresholding(X_mean,thres):\n",
        "  thresholder = VarianceThreshold(threshold=thres)\n",
        "\n",
        "  # Conduct variance thresholding\n",
        "  D = thresholder.fit_transform(X_mean.T)\n",
        "\n",
        "  # X = thresholder.transform(X)\n",
        "\n",
        "  return (D.T.shape[0])\n"
      ],
      "execution_count": 0,
      "outputs": []
    },
    {
      "cell_type": "code",
      "metadata": {
        "id": "0FIEi-Z5CqcM",
        "colab_type": "code",
        "colab": {}
      },
      "source": [
        ""
      ],
      "execution_count": 0,
      "outputs": []
    },
    {
      "cell_type": "code",
      "metadata": {
        "id": "lshOWlESIusP",
        "colab_type": "code",
        "outputId": "6f9a12b7-1cfa-45ef-e01f-2c8de350d7d6",
        "colab": {
          "base_uri": "https://localhost:8080/",
          "height": 265
        }
      },
      "source": [
        "\n",
        "import numpy as np\n",
        "import matplotlib.pyplot as plt\n",
        "\n",
        "b = []\n",
        "p = []\n",
        "for x in np.arange(0, 0.1, 0.005):\n",
        "    b.append(x)\n",
        "    p.append(variance_thresholding(X_mean,x))\n",
        "\n",
        "plt.plot(b,p)\n",
        "plt.ylabel('Dimensions left')\n",
        "plt.show()"
      ],
      "execution_count": 0,
      "outputs": [
        {
          "output_type": "display_data",
          "data": {
            "image/png": "[encoded data removed]",
            "text/plain": [
              "<Figure size 432x288 with 1 Axes>"
            ]
          },
          "metadata": {
            "tags": [],
            "needs_background": "light"
          }
        }
      ]
    },
    {
      "cell_type": "code",
      "metadata": {
        "id": "WVGXxfcFQSfz",
        "colab_type": "code",
        "outputId": "4e73af12-5f92-47fe-c325-11f1445785d3",
        "colab": {
          "base_uri": "https://localhost:8080/",
          "height": 349
        }
      },
      "source": [
        "import matplotlib\n",
        "A = X_mean\n",
        "num_vars = X_mean.shape[1]\n",
        "cov_mat = np.cov(A.T)\n",
        "eig_vals, eig_vecs = np.linalg.eig(cov_mat)\n",
        "\n",
        "fig = plt.figure()\n",
        "sing_vals = np.arange(num_vars) + 1\n",
        "plt.plot(sing_vals[1:10], eig_vals[1:10], 'ro-', linewidth=2)\n",
        "plt.title('Scree Plot')\n",
        "plt.xlabel('Principal Component')\n",
        "plt.ylabel('Eigenvalue')\n",
        "leg = plt.legend(['Eigenvalues'], loc='best', borderpad=0.3, \n",
        "                 shadow=False, prop=matplotlib.font_manager.FontProperties(size='small'),\n",
        "                 markerscale=0.4)\n",
        "leg.get_frame().set_alpha(0.4)\n",
        "plt.show()"
      ],
      "execution_count": 0,
      "outputs": [
        {
          "output_type": "stream",
          "text": [
            "/usr/local/lib/python3.6/dist-packages/numpy/core/_asarray.py:85: ComplexWarning: Casting complex values to real discards the imaginary part\n",
            "  return array(a, dtype, copy=False, order=order)\n"
          ],
          "name": "stderr"
        },
        {
          "output_type": "display_data",
          "data": {
            "image/png": "[encoded data removed]",
            "text/plain": [
              "<Figure size 432x288 with 1 Axes>"
            ]
          },
          "metadata": {
            "tags": [],
            "needs_background": "light"
          }
        }
      ]
    },
    {
      "cell_type": "code",
      "metadata": {
        "id": "Oq30E4RnSObU",
        "colab_type": "code",
        "outputId": "45cf1ce8-c139-45c5-ff73-5a0239a6becc",
        "colab": {
          "base_uri": "https://localhost:8080/",
          "height": 279
        }
      },
      "source": [
        "pca = PCA().fit(A)\n",
        "plt.plot(np.cumsum(pca.explained_variance_ratio_))\n",
        "plt.xlabel('number of components')\n",
        "plt.ylabel('cumulative explained variance')\n",
        "plt.show()"
      ],
      "execution_count": 0,
      "outputs": [
        {
          "output_type": "display_data",
          "data": {
            "image/png": "[encoded data removed]",
            "text/plain": [
              "<Figure size 432x288 with 1 Axes>"
            ]
          },
          "metadata": {
            "tags": [],
            "needs_background": "light"
          }
        }
      ]
    },
    {
      "cell_type": "markdown",
      "metadata": {
        "id": "kYB710rOO4xh",
        "colab_type": "text"
      },
      "source": [
        "# Building models"
      ]
    },
    {
      "cell_type": "markdown",
      "metadata": {
        "id": "eG6D-1M8rO_G",
        "colab_type": "text"
      },
      "source": [
        "To-do task"
      ]
    },
    {
      "cell_type": "code",
      "metadata": {
        "id": "kkvWsCKNrN5Q",
        "colab_type": "code",
        "outputId": "c315c99a-6dc4-48ad-f11a-0c971ca954b3",
        "colab": {
          "base_uri": "https://localhost:8080/",
          "height": 51
        }
      },
      "source": [
        "print(X_mean.shape,X.shape)\n",
        "k = 50\n",
        "pca = PCA(n_components=k)\n",
        "X_k = pca.fit_transform(X_mean.T)\n",
        "X_temp = []\n",
        "for x in X:\n",
        "  temp = pca.transform(x.T)\n",
        "  X_temp.append(temp.T)\n",
        "X = np.array(X_temp)\n",
        "print(X.shape)"
      ],
      "execution_count": 0,
      "outputs": [
        {
          "output_type": "stream",
          "text": [
            "(117, 244) (38, 117, 244)\n",
            "(38, 50, 244)\n"
          ],
          "name": "stdout"
        }
      ]
    },
    {
      "cell_type": "code",
      "metadata": {
        "id": "lMzqMhbcssAf",
        "colab_type": "code",
        "outputId": "0ab6167d-e6cd-4338-bcd8-6d2c52b57187",
        "colab": {
          "base_uri": "https://localhost:8080/",
          "height": 34
        }
      },
      "source": [
        "X = X.reshape(X.shape[0],X.shape[1]*X.shape[2])\n",
        "print(X.shape)"
      ],
      "execution_count": 0,
      "outputs": [
        {
          "output_type": "stream",
          "text": [
            "(38, 12200)\n"
          ],
          "name": "stdout"
        }
      ]
    },
    {
      "cell_type": "code",
      "metadata": {
        "id": "FP_-OKQ7seSE",
        "colab_type": "code",
        "outputId": "20de82a0-be82-4f32-836c-3918e8cb3e5c",
        "colab": {
          "base_uri": "https://localhost:8080/",
          "height": 34
        }
      },
      "source": [
        "from sklearn.model_selection import train_test_split\n",
        "X_train, X_test, y_train, y_test = train_test_split(\n",
        "    X, y, test_size=0.20, random_state=42)\n",
        "print(X_train.shape,y_test.shape)\n",
        "\n"
      ],
      "execution_count": 0,
      "outputs": [
        {
          "output_type": "stream",
          "text": [
            "(30, 12200) (8,)\n"
          ],
          "name": "stdout"
        }
      ]
    },
    {
      "cell_type": "code",
      "metadata": {
        "id": "ZF2ftad6NyGE",
        "colab_type": "code",
        "outputId": "8273e62c-5a39-4ed4-e5b9-bd24c3f881ba",
        "colab": {
          "base_uri": "https://localhost:8080/",
          "height": 51
        }
      },
      "source": [
        "from sklearn.neural_network import MLPRegressor\n",
        "print(\"Training MLPRegressor...\")\n",
        "est = MLPRegressor(hidden_layer_sizes=(10000, 10000),learning_rate_init=0.0001,early_stopping=True)\n",
        "est.fit(X_train, y_train)\n",
        "print(\"Test R2 score: {:.2f}\".format(est.score(X_test, y_test)))"
      ],
      "execution_count": 0,
      "outputs": [
        {
          "output_type": "stream",
          "text": [
            "Training MLPRegressor...\n",
            "Test R2 score: -1.97\n"
          ],
          "name": "stdout"
        }
      ]
    },
    {
      "cell_type": "code",
      "metadata": {
        "id": "xp3sc9MzTYIn",
        "colab_type": "code",
        "outputId": "86906ab1-0927-4d9b-c07d-b6d0d97a8deb",
        "colab": {
          "base_uri": "https://localhost:8080/",
          "height": 34
        }
      },
      "source": [
        "import numpy as np\n",
        "from sklearn.linear_model import LinearRegression\n",
        "reg = LinearRegression().fit(X_train, y_train)\n",
        "reg.score(X_test,y_test)"
      ],
      "execution_count": 0,
      "outputs": [
        {
          "output_type": "execute_result",
          "data": {
            "text/plain": [
              "-1.9817497168264133"
            ]
          },
          "metadata": {
            "tags": []
          },
          "execution_count": 32
        }
      ]
    },
    {
      "cell_type": "code",
      "metadata": {
        "id": "uUqwsnCUrSI-",
        "colab_type": "code",
        "outputId": "8c9d0a9d-4b20-48dd-b3ce-a5f7380906b0",
        "colab": {
          "base_uri": "https://localhost:8080/",
          "height": 51
        }
      },
      "source": [
        "y = g\n",
        "X = np.array(X)\n",
        "y = np.array(y)\n",
        "\n",
        "from sklearn.model_selection import train_test_split\n",
        "X_train, X_test, y_train, y_test = train_test_split(\n",
        "    X, y, test_size=0.20, random_state=42)\n",
        "print(X_train.shape,y_test.shape)\n",
        "\n",
        "\n",
        "from sklearn.linear_model import LogisticRegression\n",
        "from sklearn.metrics import average_precision_score\n",
        "\n",
        "clf = LogisticRegression(random_state=0).fit(X_train, y_train)\n",
        "# clf.predict(X_test)\n",
        "clf.score(X_test,y_test)\n",
        "scores = cross_val_score(clf, X, y, cv=5)\n",
        "print(\"Accuracy: %0.2f (+/- %0.2f)\" % (scores.mean(), scores.std() * 2))"
      ],
      "execution_count": 0,
      "outputs": [
        {
          "output_type": "stream",
          "text": [
            "(30, 12200) (8,)\n",
            "Accuracy: 0.50 (+/- 0.27)\n"
          ],
          "name": "stdout"
        }
      ]
    },
    {
      "cell_type": "code",
      "metadata": {
        "id": "fYEJHkx9sHWY",
        "colab_type": "code",
        "outputId": "c9060c93-26cc-4bda-aeec-8e11d641daa9",
        "colab": {
          "base_uri": "https://localhost:8080/",
          "height": 34
        }
      },
      "source": [
        "from sklearn.svm import LinearSVC\n",
        "from sklearn import svm\n",
        "\n",
        "clf = svm.SVC()\n",
        "clf.fit(X, y)\n",
        "print(clf.score(X_test,y_test))\n"
      ],
      "execution_count": 0,
      "outputs": [
        {
          "output_type": "stream",
          "text": [
            "0.875\n"
          ],
          "name": "stdout"
        }
      ]
    },
    {
      "cell_type": "code",
      "metadata": {
        "id": "_Gsdw2xWCV--",
        "colab_type": "code",
        "colab": {}
      },
      "source": [
        ""
      ],
      "execution_count": 0,
      "outputs": []
    }
  ]
}